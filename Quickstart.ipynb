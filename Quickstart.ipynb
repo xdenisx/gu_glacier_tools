{
 "cells": [
  {
   "cell_type": "code",
   "execution_count": 41,
   "id": "19846b1d",
   "metadata": {},
   "outputs": [],
   "source": [
    "###################################################################################################\n",
    "# An example of how to get contours around iceberges and ice shelf front from Landsat image\n",
    "###################################################################################################"
   ]
  },
  {
   "cell_type": "code",
   "execution_count": 42,
   "id": "e3ee683b",
   "metadata": {},
   "outputs": [],
   "source": [
    "from getContours import *"
   ]
  },
  {
   "cell_type": "code",
   "execution_count": 43,
   "id": "cf3904d1",
   "metadata": {},
   "outputs": [],
   "source": [
    "# 1. Open satellite image and initialize ground mask\n",
    "img_path = '/data/rrs/seaice/aux_data/landsat/unziped/training_Dotson/LC08_L1GT_009113_20200109_20201016_02_T2_B2.TIF'\n",
    "# A file with ground areas\n",
    "ground_mask = '/data/rrs/seaice/aux_data/geofiles/antarctica_ice_shelf/GroundingLine_Antarctica/GroundingLine_Antarctica_v02.shp'\n",
    "# A path to an output folder\n",
    "out_path = '/home/denis/git/gu_glacier_tools/test'\n",
    "\n",
    "c = get_contours(img_path=img_path,\n",
    "                 shp_ground=ground_mask,\n",
    "                 out_path=out_path)"
   ]
  },
  {
   "cell_type": "code",
   "execution_count": 44,
   "id": "32121e6e",
   "metadata": {},
   "outputs": [
    {
     "name": "stderr",
     "output_type": "stream",
     "text": [
      "ERROR 1: PROJ: proj_create_from_name: /home/denis/.conda/envs/proba/share/proj/proj.db lacks DATABASE.LAYOUT.VERSION.MAJOR / DATABASE.LAYOUT.VERSION.MINOR metadata. It comes from another PROJ installation.\n"
     ]
    }
   ],
   "source": [
    "# 2. Crop an area over the Dotson glacier but you can specify your own bounds in an image projection\n",
    "# To do so pass the 'contours' variable in step 1, e.g. corners=[min_x, min_y, max_x, max_y]\n",
    "c.crop_area()"
   ]
  },
  {
   "cell_type": "code",
   "execution_count": 45,
   "id": "064b55fc",
   "metadata": {},
   "outputs": [
    {
     "name": "stderr",
     "output_type": "stream",
     "text": [
      "ERROR 1: PROJ: proj_create_from_name: /home/denis/.conda/envs/proba/share/proj/proj.db lacks DATABASE.LAYOUT.VERSION.MAJOR / DATABASE.LAYOUT.VERSION.MINOR metadata. It comes from another PROJ installation.\n"
     ]
    }
   ],
   "source": [
    "# 3. Generate mask over land areas (shp_ground parameter from step 1)\n",
    "c.create_mask()"
   ]
  },
  {
   "cell_type": "code",
   "execution_count": null,
   "id": "321a2eb1",
   "metadata": {},
   "outputs": [],
   "source": [
    "# 4. Let's get contours around ice objects such as icebergs and ice shelf front by using brightness threshold value of 70 within (0-255)\n",
    "c.get_contours(val=70)"
   ]
  },
  {
   "cell_type": "code",
   "execution_count": null,
   "id": "0e79d096",
   "metadata": {},
   "outputs": [],
   "source": [
    "# 5. Now we want to convert pixel coordinates of each contour to geograhical coordinates\n",
    "c.get_contour_coordinates()"
   ]
  },
  {
   "cell_type": "code",
   "execution_count": null,
   "id": "831b7a10",
   "metadata": {},
   "outputs": [],
   "source": [
    "# 5. Export results to ESRI Shapefile\n",
    "c.export_shapefile()"
   ]
  },
  {
   "cell_type": "code",
   "execution_count": null,
   "id": "c7dfa181",
   "metadata": {},
   "outputs": [],
   "source": []
  },
  {
   "cell_type": "code",
   "execution_count": null,
   "id": "135bfd62",
   "metadata": {},
   "outputs": [],
   "source": []
  }
 ],
 "metadata": {
  "kernelspec": {
   "display_name": "Python 3 (ipykernel)",
   "language": "python",
   "name": "python3"
  },
  "language_info": {
   "codemirror_mode": {
    "name": "ipython",
    "version": 3
   },
   "file_extension": ".py",
   "mimetype": "text/x-python",
   "name": "python",
   "nbconvert_exporter": "python",
   "pygments_lexer": "ipython3",
   "version": "3.10.9"
  }
 },
 "nbformat": 4,
 "nbformat_minor": 5
}
